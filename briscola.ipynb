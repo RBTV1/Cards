{
 "cells": [
  {
   "attachments": {},
   "cell_type": "markdown",
   "metadata": {},
   "source": [
    "# Giochi di carte (carte piacentine)"
   ]
  },
  {
   "attachments": {},
   "cell_type": "markdown",
   "metadata": {},
   "source": [
    "## Briscola"
   ]
  },
  {
   "attachments": {},
   "cell_type": "markdown",
   "metadata": {},
   "source": [
    "### Regole di gioco (SNAI):\n",
    "\n",
    "Una volta mischiato il mazzo ogni giocatore riceve tre carte, distribuite insieme ed in senso antiorario, viene poi scoperta la prima carta del mazzo che designerà il seme di Briscola. Quest'ultima viene messa per metà sotto al restante mazzo coperto cosicchè resterà sempre visibile ai giocatori durante lo svolgimento del round e sarà l'ultima carta ad essere pescata. Una volta distribuite le carte e designato il seme di Briscola ha inizio la partita.\n",
    "\n",
    "Inizia il giocatore seduto alla destra di colui che ha distribuito le carte e si procede poi in senso antiorario. Ogni giocatore cercherà di aggiudicarsi la mano giocando la carta che ritiene più opportuna al fine di totalizzare il maggior numero di punti. Nella Briscola a 4 giocatori i punti vengono sommati tra i giocatori della stessa squadra. Colui che si aggiudica la mano inizierà il gioco nella mano successiva. Le regole della Briscola prevedono i seguenti criteri per aggiudicarsi una mano: Il primo giocatore a giocare una carta (detto giocatore di mano) determina con la stessa il seme di mano. I giocatori successivi non hanno alcun obbligo di giocare un particolare seme come invece avviene per giochi come il tressette. La mano è temporaneamente aggiudicata da un altro giocatore se questi posa sul tavolo una carta del seme di mano con valore di presa maggiore, o una carta del seme di Briscola anche se con valore di presa inferiore. Alla fine, quando tutti i giocatori avranno posato una carta sul tavolo, si aggiudicherà la mano colui che ha posato la carta di Briscola con valore di presa maggiore, o, in mancanza, da colui che ha giocato la carta del seme di mano con valore di presa maggiore; in mancanza di carte del seme di Briscola o di carte del seme di mano vince il primo giocatore di mano in quanto l'unico ad aver posato una carta del seme di mano. Essendo il seme di mano determinato di volta in volta dalla prima carta giocata, può coincidere col seme di Briscola ed in questo caso la mano è aggiudicata da chi gioca il seme di Briscola con valore di presa maggiore. Colui che si aggiudica la mano prende le carte giocate in quella mano e le pone coperte davanti a sé, prenderà poi una carta dal mazzo seguito dagli altri giocatori in senso antiorario."
   ]
  },
  {
   "cell_type": "code",
   "execution_count": 1,
   "metadata": {},
   "outputs": [],
   "source": [
    "from classes import Briscola, Mazzo, Giocatore, Carta, GiocatoreBriscola, Briscola"
   ]
  },
  {
   "cell_type": "code",
   "execution_count": 61,
   "metadata": {},
   "outputs": [],
   "source": [
    "mazzo = Mazzo()\n",
    "carta1 = mazzo.pesca_carta()\n",
    "carta2 = mazzo.pesca_carta()"
   ]
  },
  {
   "cell_type": "code",
   "execution_count": 55,
   "metadata": {},
   "outputs": [],
   "source": [
    "giocatore1 = GiocatoreBriscola('Rob')\n",
    "giocatore1.aggiungi_carte_vinte([carta1, carta2])\n",
    "giocatore1.carte_vinte"
   ]
  },
  {
   "cell_type": "code",
   "execution_count": 2,
   "metadata": {},
   "outputs": [
    {
     "name": "stdout",
     "output_type": "stream",
     "text": [
      "Ottimo, siete 2 giocatori\n",
      "Ora inserite i vostri nomi\n",
      "Benvenuti: ['Rob', 'Cla']\n",
      "La carta sul fondo e' un 2 di Bastoni\n",
      "Il seme di briscola quindi e' Bastoni\n",
      "Inizia Rob!\n"
     ]
    }
   ],
   "source": [
    "briscola = Briscola()"
   ]
  },
  {
   "cell_type": "code",
   "execution_count": 3,
   "metadata": {},
   "outputs": [
    {
     "data": {
      "text/plain": [
       "[3 di Denari, 4 di Bastoni, 2 di Spade]"
      ]
     },
     "execution_count": 3,
     "metadata": {},
     "output_type": "execute_result"
    }
   ],
   "source": [
    "briscola.giocatori['Rob'].carte_in_mano"
   ]
  },
  {
   "attachments": {},
   "cell_type": "markdown",
   "metadata": {},
   "source": [
    "## Scopa"
   ]
  },
  {
   "cell_type": "code",
   "execution_count": null,
   "metadata": {},
   "outputs": [],
   "source": []
  }
 ],
 "metadata": {
  "kernelspec": {
   "display_name": "base",
   "language": "python",
   "name": "python3"
  },
  "language_info": {
   "codemirror_mode": {
    "name": "ipython",
    "version": 3
   },
   "file_extension": ".py",
   "mimetype": "text/x-python",
   "name": "python",
   "nbconvert_exporter": "python",
   "pygments_lexer": "ipython3",
   "version": "3.6.13"
  },
  "orig_nbformat": 4,
  "vscode": {
   "interpreter": {
    "hash": "f537f9c21165c7935e03bfae5be5274269b6258f52c06218383ed7c44dd706d9"
   }
  }
 },
 "nbformat": 4,
 "nbformat_minor": 2
}
