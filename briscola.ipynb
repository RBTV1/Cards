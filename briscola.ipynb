{
 "cells": [
  {
   "attachments": {},
   "cell_type": "markdown",
   "metadata": {},
   "source": [
    "# Giochi di carte (carte piacentine)"
   ]
  },
  {
   "attachments": {},
   "cell_type": "markdown",
   "metadata": {},
   "source": [
    "## Classes"
   ]
  },
  {
   "cell_type": "code",
   "execution_count": 1,
   "metadata": {},
   "outputs": [],
   "source": [
    "import random"
   ]
  },
  {
   "cell_type": "code",
   "execution_count": 2,
   "metadata": {},
   "outputs": [],
   "source": [
    "class Carta():\n",
    "    def __init__(self, seme, valore) -> None:\n",
    "        self.figure_valori = {\n",
    "            'Asso' : 1,\n",
    "            'Fante' : 8,\n",
    "            'Cavallo' : 9,\n",
    "            'Re' : 10}\n",
    "        self.valori_figure = {valore: figura for figura, valore in self.figure_valori.items()}\n",
    "\n",
    "        self.seme = seme.capitalize()\n",
    "        self.valore = self._converti_figura_in_valore(valore)\n",
    "\n",
    "        self._check_seme()\n",
    "        self._check_valore()\n",
    "\n",
    "    def _check_seme(self):\n",
    "        possible_semi = ['Bastoni', 'Denari', 'Spade', 'Coppe']\n",
    "        if self.seme not in possible_semi:\n",
    "            raise ValueError(f\"Trovato {self.seme} come seme\\n\"\n",
    "                              f\"Il seme della carta deve essere per forza tra {possible_semi}\")\n",
    "                              \n",
    "    def _check_valore(self):\n",
    "        possible_valori = range(1,11)\n",
    "        if self.valore not in possible_valori:\n",
    "            raise ValueError(f\"Trovato {self.valore} come valore\\n\"\n",
    "                              f\"Il valore della carta deve essere per forza tra {[i for i in possible_valori]}\")\n",
    "\n",
    "    def _converti_in_figura(self, valore):\n",
    "        if valore > 7 or valore == 1:\n",
    "            return self.valori_figure[valore]\n",
    "        else:\n",
    "            return str(valore)\n",
    "\n",
    "    def _converti_figura_in_valore(self, valore):\n",
    "        if isinstance(valore, str):\n",
    "            return self.figure_valori[valore]\n",
    "        else:\n",
    "            return valore\n",
    "\n",
    "    def __repr__(self) -> str:\n",
    "        return f\"{self._converti_in_figura(self.valore)} di {self.seme}\""
   ]
  },
  {
   "cell_type": "code",
   "execution_count": 140,
   "metadata": {},
   "outputs": [],
   "source": [
    "class Mazzo():\n",
    "    def __init__(self) -> None:\n",
    "        semi = ['Bastoni', 'Denari', 'Spade', 'Coppe']\n",
    "        valori = range(1,11)\n",
    "                \n",
    "        self.carte = {f'{seme[0]}{valore}' : Carta(seme, valore) for seme in semi for valore in valori}\n",
    "        self.shuffle()\n",
    "\n",
    "    def shuffle(self):\n",
    "        keys =  list(self.carte.keys())\n",
    "        random.shuffle(keys)\n",
    "        self.carte = {key:self.carte[key] for key in keys}\n",
    "\n",
    "    def togli_carta(self, carta):\n",
    "        try:\n",
    "            self.carte.pop(self.convert_carta_to_key(carta))\n",
    "        except KeyError:\n",
    "            print(f\"{carta} gia' scartata\")\n",
    "    \n",
    "    def pesca_carta(self):\n",
    "        return self.carte.pop(list(self.carte.keys())[0])\n",
    "\n",
    "    def convert_carta_to_key(self, carta):\n",
    "        return f'{carta.seme[0]}{carta.valore}'\n",
    "\n",
    "    def __repr__(self) -> str:\n",
    "        return f\"Mazzo con {len(self.carte)} carte\""
   ]
  },
  {
   "cell_type": "code",
   "execution_count": 141,
   "metadata": {},
   "outputs": [],
   "source": [
    "mazzo = Mazzo()"
   ]
  },
  {
   "cell_type": "code",
   "execution_count": 123,
   "metadata": {},
   "outputs": [],
   "source": [
    "class Giocatore():\n",
    "    def __init__(self, nome) -> None:\n",
    "        self.nome = nome\n",
    "        self.carte_in_mano = []\n",
    "\n",
    "    def pesca_carta(self, mazzo):\n",
    "        self.carte_in_mano.append(mazzo.pesca_carta())\n",
    "\n",
    "    def usa_carta(self, posizione_carta):\n",
    "        return self.carte_in_mano.pop(posizione_carta)\n",
    "\n",
    "    def __repr__(self) -> str:\n",
    "        return f\"{self.nome} ha {len(self.carte_in_mano)} carte in mano\"\n",
    "\n",
    "    "
   ]
  },
  {
   "cell_type": "code",
   "execution_count": 138,
   "metadata": {},
   "outputs": [
    {
     "name": "stdout",
     "output_type": "stream",
     "text": [
      "[3 di Denari, Fante di Coppe, 4 di Bastoni]\n"
     ]
    },
    {
     "data": {
      "text/plain": [
       "Roberto ha 3 carte in mano"
      ]
     },
     "execution_count": 138,
     "metadata": {},
     "output_type": "execute_result"
    }
   ],
   "source": [
    "giocatore1 = Giocatore('Roberto')\n",
    "giocatore1.pesca_carta(mazzo)\n",
    "giocatore1.pesca_carta(mazzo)\n",
    "giocatore1.pesca_carta(mazzo)\n",
    "print(giocatore1.carte_in_mano)\n",
    "giocatore1"
   ]
  },
  {
   "cell_type": "code",
   "execution_count": 139,
   "metadata": {},
   "outputs": [
    {
     "data": {
      "text/plain": [
       "[Fante di Coppe, 4 di Bastoni]"
      ]
     },
     "execution_count": 139,
     "metadata": {},
     "output_type": "execute_result"
    }
   ],
   "source": [
    "giocatore1.usa_carta(0)\n",
    "giocatore1.carte_in_mano"
   ]
  },
  {
   "attachments": {},
   "cell_type": "markdown",
   "metadata": {},
   "source": [
    "## Briscola"
   ]
  },
  {
   "attachments": {},
   "cell_type": "markdown",
   "metadata": {},
   "source": [
    "### Regole di gioco:\n",
    "\n",
    "Una volta mischiato il mazzo ogni giocatore riceve tre carte, distribuite insieme ed in senso antiorario, viene poi scoperta la prima carta del mazzo che designerà il seme di Briscola. Quest'ultima viene messa per metà sotto al restante mazzo coperto cosicchè resterà sempre visibile ai giocatori durante lo svolgimento del round e sarà l'ultima carta ad essere pescata. Una volta distribuite le carte e designato il seme di Briscola ha inizio la partita.\n",
    "\n",
    "Inizia il giocatore seduto alla destra di colui che ha distribuito le carte e si procede poi in senso antiorario. Ogni giocatore cercherà di aggiudicarsi la mano giocando la carta che ritiene più opportuna al fine di totalizzare il maggior numero di punti. Nella Briscola a 4 giocatori i punti vengono sommati tra i giocatori della stessa squadra. Colui che si aggiudica la mano inizierà il gioco nella mano successiva. Le regole della Briscola prevedono i seguenti criteri per aggiudicarsi una mano: Il primo giocatore a giocare una carta (detto giocatore di mano) determina con la stessa il seme di mano. I giocatori successivi non hanno alcun obbligo di giocare un particolare seme come invece avviene per giochi come il tressette. La mano è temporaneamente aggiudicata da un altro giocatore se questi posa sul tavolo una carta del seme di mano con valore di presa maggiore, o una carta del seme di Briscola anche se con valore di presa inferiore. Alla fine, quando tutti i giocatori avranno posato una carta sul tavolo, si aggiudicherà la mano colui che ha posato la carta di Briscola con valore di presa maggiore, o, in mancanza, da colui che ha giocato la carta del seme di mano con valore di presa maggiore; in mancanza di carte del seme di Briscola o di carte del seme di mano vince il primo giocatore di mano in quanto l'unico ad aver posato una carta del seme di mano. Essendo il seme di mano determinato di volta in volta dalla prima carta giocata, può coincidere col seme di Briscola ed in questo caso la mano è aggiudicata da chi gioca il seme di Briscola con valore di presa maggiore. Colui che si aggiudica la mano prende le carte giocate in quella mano e le pone coperte davanti a sé, prenderà poi una carta dal mazzo seguito dagli altri giocatori in senso antiorario."
   ]
  },
  {
   "cell_type": "code",
   "execution_count": 4,
   "metadata": {},
   "outputs": [],
   "source": [
    "from classes import Briscola, Mazzo"
   ]
  },
  {
   "cell_type": "code",
   "execution_count": 148,
   "metadata": {},
   "outputs": [],
   "source": [
    "class Briscola():\n",
    "    def __init__(self) -> None:\n",
    "        self.mazzo = Mazzo()\n",
    "        self.init_giocatori()\n",
    "\n",
    "        self.dict_punti = {1: 11, 3: 10, 10: 4, 9: 3, 8: 2}\n",
    "\n",
    "    def init_giocatori(self):\n",
    "        self.numero_giocatori = int(input(\"In quanti volete giocare?\"))\n",
    "        self.contro_AI = False\n",
    "\n",
    "        assert isinstance(self.numero_giocatori, int), \"Non ho mai sentito mezze persone giocare a briscola. Metti un numero intero pls.\"\n",
    "\n",
    "        if self.numero_giocatori == 1:\n",
    "            contro_AI = input(\"Sei da solo: vuoi giocare contro l'AI? (s/n)\")\n",
    "            if contro_AI.lower()[0] == 's':\n",
    "                print(\"Ottimo, allora in bocca al lupo!\")\n",
    "                self.contro_AI = True\n",
    "            elif contro_AI.lower()[0] == 'n':\n",
    "                print(\"Allora nada. Ricomincia il gioco se ti va.\")\n",
    "            else:\n",
    "                raise ValueError(\"Accetto solo si o no come risposte.\")\n",
    "\n",
    "        elif self.numero_giocatori == 3:\n",
    "            coppe_2 = self.mazzo.togli_carta(Carta(\"Coppe\", 2))\n",
    "            print(f\"Dato che siete in 3 tolgo il 2 di Coppe, che e' la piu' inutile\")\n",
    "            \n",
    "        elif self.numero_giocatori == 5:\n",
    "            print(\"Mi dispiace ma non si puo' giocare per il momento a Briscola chiamata\")\n",
    "        \n",
    "        else:\n",
    "            print(\"Il numero massimo di giocatori e' 4\")            \n",
    "\n",
    "    def conta_punti(self):\n",
    "        pass\n",
    "\n",
    "    def __repr__(self) -> str:\n",
    "        return f\"Gioco di Briscola con {self.numero_giocatori} giocatori\""
   ]
  },
  {
   "cell_type": "code",
   "execution_count": null,
   "metadata": {},
   "outputs": [],
   "source": [
    "class GiocatoreBriscola(Giocatore):\n",
    "    def __init__(self, nome) -> None:\n",
    "        super().__init__(nome)\n",
    "        self.punti = 0\n",
    "        self.dict_punti = {1: 11, 3: 10, 10: 4, 9: 3, 8: 2}\n",
    "        self.carte_vinte = {}\n",
    "\n",
    "    def aggiungi_carte_vinte(self, carte_vinte: list or dict):\n",
    "        for carta in carte_vinte:\n",
    "            self.carte_vinte\n",
    "\n",
    "    def aggiungi_punti(self, punti):\n",
    "        self.punti += punti\n",
    "\n",
    "    def conta_punti(self):\n",
    "        punti_totali = 0\n",
    "        for key in self.carte_vinte.keys():\n",
    "            try:\n",
    "                punti_totali += self.dict_punti[int(key[1:])]\n",
    "            except:\n",
    "                pass\n",
    "        return punti_totali\n",
    "\n",
    "    "
   ]
  },
  {
   "cell_type": "code",
   "execution_count": 15,
   "metadata": {},
   "outputs": [],
   "source": [
    "carta = mazzo.pesca_carta()"
   ]
  },
  {
   "cell_type": "code",
   "execution_count": 19,
   "metadata": {},
   "outputs": [
    {
     "ename": "AttributeError",
     "evalue": "'Carta' object has no attribute 'key'",
     "output_type": "error",
     "traceback": [
      "\u001b[1;31m---------------------------------------------------------------------------\u001b[0m",
      "\u001b[1;31mAttributeError\u001b[0m                            Traceback (most recent call last)",
      "\u001b[1;32m<ipython-input-19-28503a6ab6a2>\u001b[0m in \u001b[0;36m<module>\u001b[1;34m\u001b[0m\n\u001b[1;32m----> 1\u001b[1;33m \u001b[0mcarta\u001b[0m\u001b[1;33m.\u001b[0m\u001b[0mkey\u001b[0m\u001b[1;33m\u001b[0m\u001b[1;33m\u001b[0m\u001b[0m\n\u001b[0m",
      "\u001b[1;31mAttributeError\u001b[0m: 'Carta' object has no attribute 'key'"
     ]
    }
   ],
   "source": [
    "carta.key"
   ]
  },
  {
   "cell_type": "code",
   "execution_count": 2,
   "metadata": {},
   "outputs": [
    {
     "name": "stdout",
     "output_type": "stream",
     "text": [
      "Dato che siete in 3 tolgo il 2 di Coppe, che e' la piu' inutile\n"
     ]
    }
   ],
   "source": [
    "briscola = Briscola()"
   ]
  },
  {
   "attachments": {},
   "cell_type": "markdown",
   "metadata": {},
   "source": [
    "## Scopa"
   ]
  },
  {
   "cell_type": "code",
   "execution_count": null,
   "metadata": {},
   "outputs": [],
   "source": []
  }
 ],
 "metadata": {
  "kernelspec": {
   "display_name": "base",
   "language": "python",
   "name": "python3"
  },
  "language_info": {
   "codemirror_mode": {
    "name": "ipython",
    "version": 3
   },
   "file_extension": ".py",
   "mimetype": "text/x-python",
   "name": "python",
   "nbconvert_exporter": "python",
   "pygments_lexer": "ipython3",
   "version": "3.6.13"
  },
  "orig_nbformat": 4,
  "vscode": {
   "interpreter": {
    "hash": "f537f9c21165c7935e03bfae5be5274269b6258f52c06218383ed7c44dd706d9"
   }
  }
 },
 "nbformat": 4,
 "nbformat_minor": 2
}
